{
 "cells": [
  {
   "cell_type": "markdown",
   "id": "64c96fe9",
   "metadata": {},
   "source": [
    "# Credit Score Classification with Machine Learning\n",
    "Banks and credit card companies calculate your credit score to determine your creditworthiness. It helps banks and credit card companies immediately to issue loans to customers with good creditworthiness. Today banks and credit card companies use ***Machine Learning algorithms*** to classify all the customers in their database based on their credit history.\n",
    "\n",
    "There are three credit scores that banks and credit card companies use to label their customers:\n",
    "* Good\n",
    "* Standard\n",
    "* Poor\n",
    "\n",
    "For the task of Credit Score Classification, we need a labelled dataset with credit scores. I found an ideal dataset for this task labelled according to the credit history of credit card customers. You can download the dataset [here](https://statso.io/credit-score-classification-case-study/). \n",
    "\n",
    "## Credit Score Classification using Python\n",
    "Let’s start the task of credit score classification by importing the necessary Python libraries and the dataset:"
   ]
  },
  {
   "cell_type": "code",
   "execution_count": null,
   "id": "205a71e4",
   "metadata": {},
   "outputs": [],
   "source": [
    "import pandas as pd\n",
    "import numpy as np\n",
    "import plotly.express as px\n",
    "import plotly.graph_objects as go\n",
    "import plotly.io as pio\n",
    "pio.templates.default = \"plotly_white\"\n",
    "\n",
    "data = pd.read_csv(\"train.csv\")\n",
    "print(data.head())"
   ]
  },
  {
   "cell_type": "markdown",
   "id": "4943afdb",
   "metadata": {},
   "source": [
    "**Let’s have a look at the information about the columns in the dataset:**"
   ]
  },
  {
   "cell_type": "code",
   "execution_count": null,
   "id": "6464037b",
   "metadata": {},
   "outputs": [],
   "source": [
    "print(data.info())"
   ]
  },
  {
   "cell_type": "markdown",
   "id": "a01083a9",
   "metadata": {},
   "source": [
    "**Before moving forward, let’s have a look if the dataset has any null values or not:**"
   ]
  },
  {
   "cell_type": "code",
   "execution_count": null,
   "id": "178ec71d",
   "metadata": {},
   "outputs": [],
   "source": [
    "print(data.isnull().sum())"
   ]
  },
  {
   "cell_type": "markdown",
   "id": "554f8ec1",
   "metadata": {},
   "source": [
    "**The dataset doesn’t have any null values. As this dataset is labelled, let’s have a look at the Credit_Score column values:**"
   ]
  },
  {
   "cell_type": "code",
   "execution_count": null,
   "id": "be965740",
   "metadata": {},
   "outputs": [],
   "source": [
    "data[\"Credit_Score\"].value_counts()"
   ]
  },
  {
   "cell_type": "markdown",
   "id": "8652723d",
   "metadata": {},
   "source": [
    "### Data Exploration\n",
    "**The dataset has many features that can train a Machine Learning model for credit score classification. Let’s explore all the features one by one.**\n",
    "\n",
    "**I will start by exploring the occupation feature to know if the occupation of the person affects credit scores:**"
   ]
  },
  {
   "cell_type": "code",
   "execution_count": null,
   "id": "1c3b3918",
   "metadata": {},
   "outputs": [],
   "source": [
    "fig = px.box(data,\n",
    "            x=\"Occupation\",\n",
    "            color=\"Credit_Score\",\n",
    "            title=\"Credit Scores Based on Occupation\",\n",
    "            color_discrete_map={'Poor':'red',\n",
    "                               'Standard':'yellow',\n",
    "                               'Good':'green'})\n",
    "fig.show()"
   ]
  },
  {
   "cell_type": "markdown",
   "id": "8f754f3e",
   "metadata": {},
   "source": [
    "**There’s not much difference in the credit scores of all occupations mentioned in the data. Now let’s explore whether the Annual Income of the person impacts your credit scores or not:**"
   ]
  },
  {
   "cell_type": "code",
   "execution_count": null,
   "id": "db65afdb",
   "metadata": {},
   "outputs": [],
   "source": [
    "fig = px.box(data,\n",
    "            x=\"Credit_Score\",\n",
    "            y=\"Annual_Income\",\n",
    "            color=\"Credit_Score\",\n",
    "            title=\"Credit Scores Based on Annual Income\",\n",
    "            color_discrete_map={'Poor':'red',\n",
    "                               'Standard':'yellow',\n",
    "                               'Good':'green'})\n",
    "fig.update_traces(quartilemethod=\"exclusive\")\n",
    "fig.show()"
   ]
  },
  {
   "cell_type": "markdown",
   "id": "f03f5d09",
   "metadata": {},
   "source": [
    "**According to the above visualization, the more you earn annually, the better your credit score is. Now let’s explore whether the monthly in-hand salary impacts credit scores or not:**"
   ]
  },
  {
   "cell_type": "code",
   "execution_count": null,
   "id": "ef33359a",
   "metadata": {},
   "outputs": [],
   "source": [
    "fig = px.box(data, \n",
    "             x=\"Credit_Score\", \n",
    "             y=\"Monthly_Inhand_Salary\", \n",
    "             color=\"Credit_Score\",\n",
    "             title=\"Credit Scores Based on Monthly Inhand Salary\", \n",
    "             color_discrete_map={'Poor':'red',\n",
    "                                 'Standard':'yellow',\n",
    "                                 'Good':'green'})\n",
    "fig.update_traces(quartilemethod=\"exclusive\")\n",
    "fig.show()"
   ]
  },
  {
   "cell_type": "markdown",
   "id": "f18a399e",
   "metadata": {},
   "source": [
    "**Like annual income, the more monthly in-hand salary you earn, the better your credit score will become. Now let’s see if having more bank accounts impacts credit scores or not:**"
   ]
  },
  {
   "cell_type": "code",
   "execution_count": null,
   "id": "e38091be",
   "metadata": {},
   "outputs": [],
   "source": [
    "fig = px.box(data,\n",
    "            x=\"Credit_Score\",\n",
    "            y=\"Num_Bank_Accounts\",\n",
    "            color=\"Credit_Score\",\n",
    "            title=\"Credit Scores Based on Number of Bank Accounts\",\n",
    "            color_discrete_map={'Poor':'red',\n",
    "                               'Standard':'yellow',\n",
    "                               'Good':'green'})\n",
    "fig.update_traces(quartilemethod=\"exclusive\")\n",
    "fig.show()"
   ]
  },
  {
   "cell_type": "markdown",
   "id": "70a1520b",
   "metadata": {},
   "source": [
    "**Maintaining more than five accounts is not good for having a good credit score. A person should have 2 – 3 bank accounts only. So having more bank accounts doesn’t positively impact credit scores. Now let’s see the impact on credit scores based on the number of credit cards you have:**"
   ]
  },
  {
   "cell_type": "code",
   "execution_count": null,
   "id": "fb98589d",
   "metadata": {},
   "outputs": [],
   "source": [
    "fig = px.box(data,\n",
    "            x=\"Credit_Score\",\n",
    "            y=\"Num_Credit_Card\",\n",
    "            color=\"Credit_Score\",\n",
    "            title=\"Credit Scores Based on Number of Credit cards\",\n",
    "            color_discrete_map={'Poor':'red',\n",
    "                               'Standard':'yellow',\n",
    "                               'Good':'green'})\n",
    "fig.update_traces(quartilemethod=\"exclusive\")\n",
    "fig.show()"
   ]
  },
  {
   "cell_type": "markdown",
   "id": "e0713b3f",
   "metadata": {},
   "source": [
    "**Just like the number of bank accounts, having more credit cards will not positively impact your credit scores. Having 3 – 5 credit cards is good for your credit score. Now let’s see the impact on credit scores based on how much average interest you pay on loans and EMIs:**"
   ]
  },
  {
   "cell_type": "code",
   "execution_count": null,
   "id": "344c5e5d",
   "metadata": {},
   "outputs": [],
   "source": [
    "fig = px.box(data,\n",
    "            x=\"Credit_Score\",\n",
    "            y=\"Interest_Rate\",\n",
    "            color=\"Credit_Score\",\n",
    "            title=\"Credit Scores Based on the Average Interest rates\",\n",
    "            color_discrete_map={'Poor':'red',\n",
    "                               'Standard':'yellow',\n",
    "                               'Good':'green'})\n",
    "fig.update_traces(quartilemethod=\"exclusive\")\n",
    "fig.show()"
   ]
  },
  {
   "cell_type": "markdown",
   "id": "baea4178",
   "metadata": {},
   "source": [
    "**If the average interest rate is 4 – 11%, the credit score is good. Having an average interest rate of more than 15% is bad for your credit scores. Now let’s see how many loans you can take at a time for a good credit score:**"
   ]
  },
  {
   "cell_type": "code",
   "execution_count": null,
   "id": "47b6969f",
   "metadata": {},
   "outputs": [],
   "source": [
    "fig = px.box(data,\n",
    "            x=\"Credit_Score\",\n",
    "            y=\"Num_of_Loan\",\n",
    "            color=\"Credit_Score\",\n",
    "            title=\"Credit Scores Based on Number of Loans Taken by the Person\",\n",
    "            color_discrete_map={'Poor':'red',\n",
    "                               'Standard':'yellow',\n",
    "                               'Good':'green'})\n",
    "fig.update_traces(quartilemethod=\"exclusive\")\n",
    "fig.show()"
   ]
  },
  {
   "cell_type": "markdown",
   "id": "c8a2c99d",
   "metadata": {},
   "source": [
    "**To have a good credit score, you should not take more than 1 – 3 loans at a time. Having more than three loans at a time will negatively impact your credit scores. Now let’s see if delaying payments on the due date impacts your credit scores or not:**"
   ]
  },
  {
   "cell_type": "code",
   "execution_count": null,
   "id": "986c0e28",
   "metadata": {},
   "outputs": [],
   "source": [
    "fig = px.box(data,\n",
    "            x=\"Credit_Score\",\n",
    "            y=\"Delay_from_due_date\",\n",
    "            color=\"Credit_Score\",\n",
    "            title=\"Credit Scores Based on Avarage Number of Days Delayed for Credit card Payments\",\n",
    "            color_discrete_map={'Poor':'red',\n",
    "                               'Standard':'yellow',\n",
    "                               'Good':'green'})\n",
    "fig.update_traces(quartilemethod=\"exclusive\")\n",
    "fig.show()"
   ]
  },
  {
   "cell_type": "markdown",
   "id": "209ee1ab",
   "metadata": {},
   "source": [
    "**So you can delay your credit card payment 5 – 14 days from the due date. Delaying your payments for more than 17 days from the due date will impact your credit scores negatively. Now let’s have a look at if frequently delaying payments will impact credit scores or not:**"
   ]
  },
  {
   "cell_type": "code",
   "execution_count": null,
   "id": "3bc626e1",
   "metadata": {
    "scrolled": false
   },
   "outputs": [],
   "source": [
    "fig = px.box(data, \n",
    "             x=\"Credit_Score\", \n",
    "             y=\"Num_of_Delayed_Payment\", \n",
    "             color=\"Credit_Score\", \n",
    "             title=\"Credit Scores Based on Number of Delayed Payments\",\n",
    "             color_discrete_map={'Poor':'red',\n",
    "                                 'Standard':'yellow',\n",
    "                                 'Good':'green'})\n",
    "fig.update_traces(quartilemethod=\"exclusive\")\n",
    "fig.show()"
   ]
  },
  {
   "cell_type": "markdown",
   "id": "9815851c",
   "metadata": {},
   "source": [
    "**So delaying 4 – 12 payments from the due date will not affect your credit scores. But delaying more than 12 payments from the due date will affect your credit scores negatively. Now let’s see if having more debt will affect credit scores or not:**"
   ]
  },
  {
   "cell_type": "code",
   "execution_count": null,
   "id": "d3887a66",
   "metadata": {},
   "outputs": [],
   "source": [
    "fig = px.box(data, \n",
    "             x=\"Credit_Score\", \n",
    "             y=\"Outstanding_Debt\", \n",
    "             color=\"Credit_Score\", \n",
    "             title=\"Credit Scores Based on Outstanding Debt\",\n",
    "             color_discrete_map={'Poor':'red',\n",
    "                                 'Standard':'yellow',\n",
    "                                 'Good':'green'})\n",
    "fig.update_traces(quartilemethod=\"exclusive\")\n",
    "fig.show()"
   ]
  },
  {
   "cell_type": "markdown",
   "id": "2f28cdbc",
   "metadata": {},
   "source": [
    "**An outstanding debt of 380 USD – 1150 USD will not affect your credit scores. But always having a debt of more than 1338 USD will affect your credit scores negatively. Now let’s see if having a high credit utilization ratio will affect credit scores or not:**"
   ]
  },
  {
   "cell_type": "code",
   "execution_count": null,
   "id": "7aa31e96",
   "metadata": {},
   "outputs": [],
   "source": [
    "fig = px.box(data, \n",
    "             x=\"Credit_Score\", \n",
    "             y=\"Credit_Utilization_Ratio\", \n",
    "             color=\"Credit_Score\", \n",
    "             title=\"Credit Scores Based on Credit Utilization Ratio\",\n",
    "             color_discrete_map={'Poor':'red',\n",
    "                                 'Standard':'yellow',\n",
    "                                 'Good':'green'})\n",
    "fig.update_traces(quartilemethod=\"exclusive\")\n",
    "fig.show()"
   ]
  },
  {
   "cell_type": "markdown",
   "id": "d924ebfb",
   "metadata": {},
   "source": [
    "**Credit utilization ratio means your total debt divided by your total available credit. According to the above figure, your credit utilization ratio doesn’t affect your credit scores. Now let’s see how the credit history age of a person affects credit scores:**"
   ]
  },
  {
   "cell_type": "code",
   "execution_count": null,
   "id": "7f7dca7f",
   "metadata": {
    "scrolled": false
   },
   "outputs": [],
   "source": [
    "fig = px.box(data, \n",
    "             x=\"Credit_Score\", \n",
    "             y=\"Credit_History_Age\", \n",
    "             color=\"Credit_Score\", \n",
    "             title=\"Credit Scores Based on Credit History Age\",\n",
    "             color_discrete_map={'Poor':'red',\n",
    "                                 'Standard':'yellow',\n",
    "                                 'Good':'green'})\n",
    "fig.update_traces(quartilemethod=\"exclusive\")\n",
    "fig.show()"
   ]
  },
  {
   "cell_type": "markdown",
   "id": "f32165c4",
   "metadata": {},
   "source": [
    "**So, having a long credit history results in better credit scores. Now let’s see how many EMIs you can have in a month for a good credit score:**"
   ]
  },
  {
   "cell_type": "code",
   "execution_count": null,
   "id": "ac4af91f",
   "metadata": {},
   "outputs": [],
   "source": [
    "fig = px.box(data, \n",
    "             x=\"Credit_Score\", \n",
    "             y=\"Total_EMI_per_month\", \n",
    "             color=\"Credit_Score\", \n",
    "             title=\"Credit Scores Based on Total Number of EMIs per Month\",\n",
    "             color_discrete_map={'Poor':'red',\n",
    "                                 'Standard':'yellow',\n",
    "                                 'Good':'green'})\n",
    "fig.update_traces(quartilemethod=\"exclusive\")\n",
    "fig.show()"
   ]
  },
  {
   "cell_type": "markdown",
   "id": "a35153e7",
   "metadata": {},
   "source": [
    "**The number of EMIs you are paying in a month doesn’t affect much on credit scores. Now let’s see if your monthly investments affect your credit scores or not:**"
   ]
  },
  {
   "cell_type": "code",
   "execution_count": null,
   "id": "262321b3",
   "metadata": {},
   "outputs": [],
   "source": [
    "fig = px.box(data,\n",
    "            x=\"Credit_Score\",\n",
    "            y=\"Amount_invested_monthly\",\n",
    "            color=\"Credit_Score\",\n",
    "            title=\"Credit Scores Based on Amount Invested Monthly\",\n",
    "            color_discrete_map={'Poor':'red',\n",
    "                               'Standard':'yellow',\n",
    "                               'Good':'green'})\n",
    "fig.update_traces(quartilemethod=\"exclusive\")\n",
    "fig.show()"
   ]
  },
  {
   "cell_type": "markdown",
   "id": "d7edbe42",
   "metadata": {},
   "source": [
    "**The amount of money you invest monthly doesn’t affect your credit scores a lot. Now let’s see if having a low amount at the end of the month affects credit scores or not:**"
   ]
  },
  {
   "cell_type": "code",
   "execution_count": null,
   "id": "53631f68",
   "metadata": {},
   "outputs": [],
   "source": [
    "fig = px.box(data,\n",
    "            x=\"Credit_Score\",\n",
    "            y=\"Monthly_Balance\",\n",
    "            color=\"Credit_Score\",\n",
    "            title=\"Credit Scores Based on Monthly Balance Left\",\n",
    "            color_discrete_map={'Poor':'red',\n",
    "                               'Standard':'yellow',\n",
    "                               'Good':'green'})\n",
    "fig.update_traces(quartilemethod=\"exclusive\")\n",
    "fig.show()"
   ]
  },
  {
   "cell_type": "markdown",
   "id": "129c7196",
   "metadata": {},
   "source": [
    "**So, having a high monthly balance in your account at the end of the month is good for your credit scores. A monthly balance of less than 250 USD is bad for credit scores.**\n",
    "\n",
    "## Credit Score Classification Model\n",
    "**One more important feature (Credit Mix) in the dataset is valuable for determining credit scores. The credit mix feature tells about the types of credits and loans you have taken.**\n",
    "\n",
    "**As the Credit_Mix column is categorical, I will transform it into a numerical feature so that we can use it to train a Machine Learning model for the task of credit score classification:**"
   ]
  },
  {
   "cell_type": "code",
   "execution_count": 20,
   "id": "927a3784",
   "metadata": {},
   "outputs": [],
   "source": [
    "data[\"Credit_Mix\"] = data[\"Credit_Mix\"].map({\"Standard\": 1, \n",
    "                               \"Good\": 2, \n",
    "                               \"Bad\": 0})"
   ]
  },
  {
   "cell_type": "markdown",
   "id": "9bdb419e",
   "metadata": {},
   "source": [
    "**Now I will split the data into features and labels by selecting the features we found important for our model:**"
   ]
  },
  {
   "cell_type": "code",
   "execution_count": 21,
   "id": "e854a37f",
   "metadata": {},
   "outputs": [],
   "source": [
    "from sklearn.model_selection import train_test_split\n",
    "x = np.array(data[[\"Annual_Income\", \"Monthly_Inhand_Salary\", \n",
    "                   \"Num_Bank_Accounts\", \"Num_Credit_Card\", \n",
    "                   \"Interest_Rate\", \"Num_of_Loan\", \n",
    "                   \"Delay_from_due_date\", \"Num_of_Delayed_Payment\", \n",
    "                   \"Credit_Mix\", \"Outstanding_Debt\", \n",
    "                   \"Credit_History_Age\", \"Monthly_Balance\"]])\n",
    "y = np.array(data[[\"Credit_Score\"]])"
   ]
  },
  {
   "cell_type": "markdown",
   "id": "bffbb9aa",
   "metadata": {},
   "source": [
    "**Now, let’s split the data into training and test sets and proceed further by training a credit score classification model:**"
   ]
  },
  {
   "cell_type": "code",
   "execution_count": 22,
   "id": "abffcb2f",
   "metadata": {
    "scrolled": false
   },
   "outputs": [
    {
     "name": "stderr",
     "output_type": "stream",
     "text": [
      "C:\\Users\\tahaa\\anaconda3\\Lib\\site-packages\\sklearn\\base.py:1151: DataConversionWarning:\n",
      "\n",
      "A column-vector y was passed when a 1d array was expected. Please change the shape of y to (n_samples,), for example using ravel().\n",
      "\n"
     ]
    },
    {
     "data": {
      "text/html": [
       "<style>#sk-container-id-1 {color: black;}#sk-container-id-1 pre{padding: 0;}#sk-container-id-1 div.sk-toggleable {background-color: white;}#sk-container-id-1 label.sk-toggleable__label {cursor: pointer;display: block;width: 100%;margin-bottom: 0;padding: 0.3em;box-sizing: border-box;text-align: center;}#sk-container-id-1 label.sk-toggleable__label-arrow:before {content: \"▸\";float: left;margin-right: 0.25em;color: #696969;}#sk-container-id-1 label.sk-toggleable__label-arrow:hover:before {color: black;}#sk-container-id-1 div.sk-estimator:hover label.sk-toggleable__label-arrow:before {color: black;}#sk-container-id-1 div.sk-toggleable__content {max-height: 0;max-width: 0;overflow: hidden;text-align: left;background-color: #f0f8ff;}#sk-container-id-1 div.sk-toggleable__content pre {margin: 0.2em;color: black;border-radius: 0.25em;background-color: #f0f8ff;}#sk-container-id-1 input.sk-toggleable__control:checked~div.sk-toggleable__content {max-height: 200px;max-width: 100%;overflow: auto;}#sk-container-id-1 input.sk-toggleable__control:checked~label.sk-toggleable__label-arrow:before {content: \"▾\";}#sk-container-id-1 div.sk-estimator input.sk-toggleable__control:checked~label.sk-toggleable__label {background-color: #d4ebff;}#sk-container-id-1 div.sk-label input.sk-toggleable__control:checked~label.sk-toggleable__label {background-color: #d4ebff;}#sk-container-id-1 input.sk-hidden--visually {border: 0;clip: rect(1px 1px 1px 1px);clip: rect(1px, 1px, 1px, 1px);height: 1px;margin: -1px;overflow: hidden;padding: 0;position: absolute;width: 1px;}#sk-container-id-1 div.sk-estimator {font-family: monospace;background-color: #f0f8ff;border: 1px dotted black;border-radius: 0.25em;box-sizing: border-box;margin-bottom: 0.5em;}#sk-container-id-1 div.sk-estimator:hover {background-color: #d4ebff;}#sk-container-id-1 div.sk-parallel-item::after {content: \"\";width: 100%;border-bottom: 1px solid gray;flex-grow: 1;}#sk-container-id-1 div.sk-label:hover label.sk-toggleable__label {background-color: #d4ebff;}#sk-container-id-1 div.sk-serial::before {content: \"\";position: absolute;border-left: 1px solid gray;box-sizing: border-box;top: 0;bottom: 0;left: 50%;z-index: 0;}#sk-container-id-1 div.sk-serial {display: flex;flex-direction: column;align-items: center;background-color: white;padding-right: 0.2em;padding-left: 0.2em;position: relative;}#sk-container-id-1 div.sk-item {position: relative;z-index: 1;}#sk-container-id-1 div.sk-parallel {display: flex;align-items: stretch;justify-content: center;background-color: white;position: relative;}#sk-container-id-1 div.sk-item::before, #sk-container-id-1 div.sk-parallel-item::before {content: \"\";position: absolute;border-left: 1px solid gray;box-sizing: border-box;top: 0;bottom: 0;left: 50%;z-index: -1;}#sk-container-id-1 div.sk-parallel-item {display: flex;flex-direction: column;z-index: 1;position: relative;background-color: white;}#sk-container-id-1 div.sk-parallel-item:first-child::after {align-self: flex-end;width: 50%;}#sk-container-id-1 div.sk-parallel-item:last-child::after {align-self: flex-start;width: 50%;}#sk-container-id-1 div.sk-parallel-item:only-child::after {width: 0;}#sk-container-id-1 div.sk-dashed-wrapped {border: 1px dashed gray;margin: 0 0.4em 0.5em 0.4em;box-sizing: border-box;padding-bottom: 0.4em;background-color: white;}#sk-container-id-1 div.sk-label label {font-family: monospace;font-weight: bold;display: inline-block;line-height: 1.2em;}#sk-container-id-1 div.sk-label-container {text-align: center;}#sk-container-id-1 div.sk-container {/* jupyter's `normalize.less` sets `[hidden] { display: none; }` but bootstrap.min.css set `[hidden] { display: none !important; }` so we also need the `!important` here to be able to override the default hidden behavior on the sphinx rendered scikit-learn.org. See: https://github.com/scikit-learn/scikit-learn/issues/21755 */display: inline-block !important;position: relative;}#sk-container-id-1 div.sk-text-repr-fallback {display: none;}</style><div id=\"sk-container-id-1\" class=\"sk-top-container\"><div class=\"sk-text-repr-fallback\"><pre>RandomForestClassifier()</pre><b>In a Jupyter environment, please rerun this cell to show the HTML representation or trust the notebook. <br />On GitHub, the HTML representation is unable to render, please try loading this page with nbviewer.org.</b></div><div class=\"sk-container\" hidden><div class=\"sk-item\"><div class=\"sk-estimator sk-toggleable\"><input class=\"sk-toggleable__control sk-hidden--visually\" id=\"sk-estimator-id-1\" type=\"checkbox\" checked><label for=\"sk-estimator-id-1\" class=\"sk-toggleable__label sk-toggleable__label-arrow\">RandomForestClassifier</label><div class=\"sk-toggleable__content\"><pre>RandomForestClassifier()</pre></div></div></div></div></div>"
      ],
      "text/plain": [
       "RandomForestClassifier()"
      ]
     },
     "execution_count": 22,
     "metadata": {},
     "output_type": "execute_result"
    }
   ],
   "source": [
    "xtrain, xtest, ytrain, ytest = train_test_split(x, y, \n",
    "                                                    test_size=0.33, \n",
    "                                                    random_state=42)\n",
    "from sklearn.ensemble import RandomForestClassifier\n",
    "model = RandomForestClassifier()\n",
    "model.fit(xtrain, ytrain)"
   ]
  },
  {
   "cell_type": "markdown",
   "id": "c33ba577",
   "metadata": {},
   "source": [
    "**Now, let’s make predictions from our model by giving inputs to our model according to the features we used to train the model:**"
   ]
  },
  {
   "cell_type": "code",
   "execution_count": 23,
   "id": "e72b8794",
   "metadata": {},
   "outputs": [
    {
     "name": "stdout",
     "output_type": "stream",
     "text": [
      "Credit Score Prediction : \n",
      "Annual Income: 120000\n",
      "Monthly Inhand Salary: 10000\n",
      "Number of Bank Accounts: 4\n",
      "Number of Credit cards: 4\n",
      "Interest rate: 10\n",
      "Number of Loans: 2\n",
      "Average number of days delayed by the person: 5\n",
      "Number of delayed payments: 1\n",
      "Credit Mix (Bad: 0, Standard: 1, Good: 3) : 1\n",
      "Outstanding Debt: 1\n",
      "Credit History Age: 15\n",
      "Monthly Balance: 25\n",
      "Predicted Credit Score =  ['Standard']\n"
     ]
    }
   ],
   "source": [
    "print(\"Credit Score Prediction : \")\n",
    "a = float(input(\"Annual Income: \"))\n",
    "b = float(input(\"Monthly Inhand Salary: \"))\n",
    "c = float(input(\"Number of Bank Accounts: \"))\n",
    "d = float(input(\"Number of Credit cards: \"))\n",
    "e = float(input(\"Interest rate: \"))\n",
    "f = float(input(\"Number of Loans: \"))\n",
    "g = float(input(\"Average number of days delayed by the person: \"))\n",
    "h = float(input(\"Number of delayed payments: \"))\n",
    "i = input(\"Credit Mix (Bad: 0, Standard: 1, Good: 3) : \")\n",
    "j = float(input(\"Outstanding Debt: \"))\n",
    "k = float(input(\"Credit History Age: \"))\n",
    "l = float(input(\"Monthly Balance: \"))\n",
    "\n",
    "features = np.array([[a, b, c, d, e, f, g, h, i, j, k, l]])\n",
    "print(\"Predicted Credit Score = \", model.predict(features))"
   ]
  },
  {
   "cell_type": "code",
   "execution_count": null,
   "id": "f694f660",
   "metadata": {},
   "outputs": [],
   "source": []
  }
 ],
 "metadata": {
  "kernelspec": {
   "display_name": "Python 3 (ipykernel)",
   "language": "python",
   "name": "python3"
  },
  "language_info": {
   "codemirror_mode": {
    "name": "ipython",
    "version": 3
   },
   "file_extension": ".py",
   "mimetype": "text/x-python",
   "name": "python",
   "nbconvert_exporter": "python",
   "pygments_lexer": "ipython3",
   "version": "3.11.5"
  }
 },
 "nbformat": 4,
 "nbformat_minor": 5
}
